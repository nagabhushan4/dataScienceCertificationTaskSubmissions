{
 "cells": [
  {
   "cell_type": "markdown",
   "id": "23298e04",
   "metadata": {},
   "source": [
    "# Data Science Tools and Ecosystem"
   ]
  },
  {
   "cell_type": "markdown",
   "id": "4f1aab0b",
   "metadata": {},
   "source": [
    "### In this notebook, Data Science Tools and Ecosystem are summarized."
   ]
  },
  {
   "cell_type": "markdown",
   "id": "39a058ae",
   "metadata": {},
   "source": [
    "**Objectives**\n",
    "- To list the popular languages used by data scientists.\n",
    "- To list the commonly used libraries in data science.\n",
    "- To list the open source tools used by data scientists.\n",
    "- To write simple code for addition/multiplication of integers and also to convert time in minutes to hrs "
   ]
  },
  {
   "cell_type": "markdown",
   "id": "7ebd18eb",
   "metadata": {},
   "source": [
    "#### Some of the popular languages that Data Scientists use are:\n",
    "1. Python\n",
    "2. R\n",
    "3. Julia"
   ]
  },
  {
   "cell_type": "markdown",
   "id": "d28c7404",
   "metadata": {},
   "source": [
    "#### Some of the commonly used libraries used by Data Scientists include:\n",
    "1. Pandas\n",
    "2. Numpy\n",
    "3. Matplotlib\n",
    "4. Tensorflow\n",
    "5. PyTorch"
   ]
  },
  {
   "cell_type": "markdown",
   "id": "fc6e9c71",
   "metadata": {},
   "source": [
    "|Data Science Tools|\n",
    "|------------------|\n",
    "| VS Code          |\n",
    "| RStudio          |\n",
    "| Jupyter Notebooks|"
   ]
  },
  {
   "cell_type": "markdown",
   "id": "a679144e",
   "metadata": {},
   "source": [
    "### Below are a few examples of evaluating arithmetic expressions in Python"
   ]
  },
  {
   "cell_type": "code",
   "execution_count": 2,
   "id": "e31e444b",
   "metadata": {},
   "outputs": [
    {
     "data": {
      "text/plain": [
       "17"
      ]
     },
     "execution_count": 2,
     "metadata": {},
     "output_type": "execute_result"
    }
   ],
   "source": [
    "# This a simple arithmetic expression to mutiply then add integers\n",
    "(3*4)+5"
   ]
  },
  {
   "cell_type": "code",
   "execution_count": 3,
   "id": "9f75809d",
   "metadata": {},
   "outputs": [
    {
     "name": "stdout",
     "output_type": "stream",
     "text": [
      "3.3333333333333335 hrs\n"
     ]
    }
   ],
   "source": [
    "# This will convert 200 minutes to hours by diving by 60\n",
    "minsToHrs = (200/60)\n",
    "print(str(minsToHrs)+ ' hrs')"
   ]
  },
  {
   "cell_type": "markdown",
   "id": "68ed123b",
   "metadata": {},
   "source": [
    "### Author\n",
    "Nagabhushan Gudi"
   ]
  },
  {
   "cell_type": "code",
   "execution_count": null,
   "id": "ebc19c4d",
   "metadata": {},
   "outputs": [],
   "source": []
  }
 ],
 "metadata": {
  "kernelspec": {
   "display_name": "Python 3",
   "language": "python",
   "name": "python3"
  },
  "language_info": {
   "codemirror_mode": {
    "name": "ipython",
    "version": 3
   },
   "file_extension": ".py",
   "mimetype": "text/x-python",
   "name": "python",
   "nbconvert_exporter": "python",
   "pygments_lexer": "ipython3",
   "version": "3.8.8"
  }
 },
 "nbformat": 4,
 "nbformat_minor": 5
}
